{
 "cells": [
  {
   "cell_type": "markdown",
   "id": "389c036c-33a9-4f5d-bc30-94bf5ab8d9f3",
   "metadata": {},
   "source": [
    "# Intelligence artificielle et raisonnement TP1"
   ]
  },
  {
   "cell_type": "markdown",
   "metadata": {},
   "source": [
    "### Code base"
   ]
  },
  {
   "cell_type": "markdown",
   "metadata": {},
   "source": [
    "On a implementer la class `Taquin`, une package `algorithms` qui contient les methodes demander.\n",
    "\n",
    "Le contenu de `algorithms` package est:\n",
    "- `BaseAlgorithm`: C'est une class de base pour les solutions\n",
    "- `AStar`: A* Algorithm\n",
    "- `Dfs`: Depth First Search\n",
    "- `IterativeDfs`: Iterative Depth First Search"
   ]
  },
  {
   "cell_type": "code",
   "execution_count": 28,
   "metadata": {},
   "outputs": [
    {
     "ename": "ImportError",
     "evalue": "cannot import name 'BaseAlgorithm' from 'algorithms' (c:\\Users\\saida\\OneDrive\\Documents\\Github\\TP-AI-GL4\\algorithms\\__init__.py)",
     "output_type": "error",
     "traceback": [
      "\u001b[1;31m---------------------------------------------------------------------------\u001b[0m",
      "\u001b[1;31mImportError\u001b[0m                               Traceback (most recent call last)",
      "\u001b[1;32mc:\\Users\\saida\\OneDrive\\Documents\\Github\\TP-AI-GL4\\tp1-student.ipynb Cell 4\u001b[0m line \u001b[0;36m2\n\u001b[0;32m      <a href='vscode-notebook-cell:/c%3A/Users/saida/OneDrive/Documents/Github/TP-AI-GL4/tp1-student.ipynb#W3sZmlsZQ%3D%3D?line=0'>1</a>\u001b[0m \u001b[39mfrom\u001b[39;00m \u001b[39mtaquin\u001b[39;00m \u001b[39mimport\u001b[39;00m Taquin\n\u001b[1;32m----> <a href='vscode-notebook-cell:/c%3A/Users/saida/OneDrive/Documents/Github/TP-AI-GL4/tp1-student.ipynb#W3sZmlsZQ%3D%3D?line=1'>2</a>\u001b[0m \u001b[39mfrom\u001b[39;00m \u001b[39malgorithms\u001b[39;00m \u001b[39mimport\u001b[39;00m Dfs, IterativeDfs, AStar, BaseAlgorithm  \u001b[39m# noqa: F401\u001b[39;00m\n",
      "\u001b[1;31mImportError\u001b[0m: cannot import name 'BaseAlgorithm' from 'algorithms' (c:\\Users\\saida\\OneDrive\\Documents\\Github\\TP-AI-GL4\\algorithms\\__init__.py)"
     ]
    }
   ],
   "source": [
    "from taquin import Taquin\n",
    "from algorithms import Dfs, IterativeDfs, AStar  # noqa: F401"
   ]
  },
  {
   "cell_type": "markdown",
   "metadata": {},
   "source": [
    "### Objectif: Optimisation de calcule de fonction d'heuristique"
   ]
  },
  {
   "cell_type": "markdown",
   "metadata": {},
   "source": [
    "Cette optimisation depand de la fonction de calcule d'heuristique choisit.\n",
    "\n",
    "Pour simplification, on a utiliser cette heuristique:"
   ]
  },
  {
   "cell_type": "code",
   "execution_count": 2,
   "metadata": {},
   "outputs": [],
   "source": [
    "def h1(board: Taquin) -> int:\n",
    "  state = board.get_state()\n",
    "  goal = board.get_solution()\n",
    "  cost = 0\n",
    "  for i in range(board.size):\n",
    "    for j in range(board.size):\n",
    "      if goal[i][j] != state[i][j]:\n",
    "        cost += 1\n",
    "  \n",
    "  return cost"
   ]
  },
  {
   "cell_type": "markdown",
   "metadata": {},
   "source": [
    "On doit tout d'abords calculer la complexité de cette fonctions. C'est O(N<sup>2</sup>) avec `N` la taille de board.\n",
    "\n",
    "Pour des grand valeurs de `N`, le calcule de cout peut prendre beaucoup du temps."
   ]
  },
  {
   "cell_type": "markdown",
   "metadata": {},
   "source": [
    "### Principe de solution"
   ]
  },
  {
   "cell_type": "markdown",
   "metadata": {},
   "source": [
    "On prend cette example de board:"
   ]
  },
  {
   "cell_type": "markdown",
   "metadata": {},
   "source": [
    "<p align=\"center\">\n",
    "  <img src=\"./img/board1.png\">\n",
    "</p>"
   ]
  },
  {
   "cell_type": "code",
   "execution_count": 3,
   "metadata": {},
   "outputs": [
    {
     "name": "stdout",
     "output_type": "stream",
     "text": [
      "  7  2  4\n",
      "  6  5\u001b[94m  0\u001b[0m\n",
      "  8  3  1\n",
      "\n"
     ]
    }
   ],
   "source": [
    "state = [\n",
    "  [7,2,4],\n",
    "  [6,5,0],\n",
    "  [8,3,1],\n",
    "]\n",
    "\n",
    "board = Taquin(3)\n",
    "board.set_state(state)\n",
    "print(board)"
   ]
  },
  {
   "cell_type": "markdown",
   "metadata": {},
   "source": [
    "Calculons le cout de cette etat:"
   ]
  },
  {
   "cell_type": "code",
   "execution_count": 4,
   "metadata": {},
   "outputs": [
    {
     "data": {
      "text/plain": [
       "9"
      ]
     },
     "execution_count": 4,
     "metadata": {},
     "output_type": "execute_result"
    }
   ],
   "source": [
    "current_cost = h1(board)\n",
    "current_cost"
   ]
  },
  {
   "cell_type": "markdown",
   "metadata": {},
   "source": [
    "Si on prend un movement aleatoire pour creer une nouvelle etat, par example un deplacement avec `5`, on se trouvera avec cette nouvelle etat: "
   ]
  },
  {
   "cell_type": "markdown",
   "metadata": {},
   "source": [
    "<p align=\"center\">\n",
    "  <img src=\"./img/board2.png\">\n",
    "</p>"
   ]
  },
  {
   "cell_type": "code",
   "execution_count": 5,
   "metadata": {},
   "outputs": [
    {
     "name": "stdout",
     "output_type": "stream",
     "text": [
      "  7  2  4\n",
      "  6\u001b[94m  0\u001b[0m  5\n",
      "  8  3  1\n",
      "\n"
     ]
    },
    {
     "data": {
      "text/plain": [
       "8"
      ]
     },
     "execution_count": 5,
     "metadata": {},
     "output_type": "execute_result"
    }
   ],
   "source": [
    "new_board = board.move([0, -1])\n",
    "print(new_board)\n",
    "h1(new_board)"
   ]
  },
  {
   "cell_type": "markdown",
   "metadata": {},
   "source": [
    "La case `5` est maintenant en position correct, donc le cout est diminuer de 1. Mais c'est calculer à l'aide d'un parcours complete de board!"
   ]
  },
  {
   "cell_type": "markdown",
   "metadata": {},
   "source": [
    "Notre solution consiste a calculer le nouveau cout avec une complexité `O(1)`."
   ]
  },
  {
   "cell_type": "markdown",
   "metadata": {},
   "source": [
    "Pour le faire, nous devons savoir exactement quels changements ont eu lieu aprés chanque mouvement et quels sont les effets de ces changements sur le cout."
   ]
  },
  {
   "cell_type": "markdown",
   "metadata": {},
   "source": [
    "Commencant par les changements, notre mouvement consiste toujour a échanger (swap) 2 tiles, le `Tile 0` et un autre qu'on choisit."
   ]
  },
  {
   "cell_type": "markdown",
   "metadata": {},
   "source": [
    "Pour notre example, la fonction heuristique depend de nombre d'elements placer correctement sur la board. Donc, on doit voir quels sont les effets de notre mouvement sur cette condition."
   ]
  },
  {
   "cell_type": "markdown",
   "metadata": {},
   "source": [
    "Puisque nous somme entrain de échanger une `tile X` avec la `tile 0`, seulement ces 2 tiles seront affecté par notre deplacement.\n",
    "\n",
    "On a 2 tiles, chaqu'une a 2 etats:\n",
    "- Mal placé\n",
    "- Bien placé\n",
    "\n",
    "Donc, on peut avoir 2<sup>2</sup>=4 possibilité pour chaque tile."
   ]
  },
  {
   "cell_type": "markdown",
   "metadata": {},
   "source": [
    "On peut conclur ces situations:\n",
    "* `Tile X`:\n",
    "  - `TXP0`: A l'etat current est mal placé. Dans la nouvelle etat, elle est mal placé.\n",
    "  - `TXP1`: A l'etat current est mal placé. Dans la nouvelle etat, elle est bien placé.\n",
    "  - `TXP2`: A l'etat current est bien placé. Dans la nouvelle etat, elle est mal placé.\n",
    "  - `TXP3`: A l'etat current est bien placé. Dans la nouvelle etat, elle est bien placé.\n",
    "\n",
    "\n",
    "* `Tile 0`:\n",
    "  - `T0P0`: A l'etat current est mal placé. Dans la nouvelle etat, elle est mal placé.\n",
    "  - `T0P1`: A l'etat current est mal placé. Dans la nouvelle etat, elle est bien placé.\n",
    "  - `T0P2`: A l'etat current est bien placé. Dans la nouvelle etat, elle est mal placé.\n",
    "  - `T0P3`: A l'etat current est bien placé. Dans la nouvelle etat, elle est bien placé."
   ]
  },
  {
   "cell_type": "markdown",
   "metadata": {},
   "source": [
    "Maintenant, on doit voir l'effet de ces changements sur notre fonction heuristique. Ces changements depend de la fonction heuristique et doit etre reconsiderer pour utiliser une nouvelle fonction:\n",
    "\n",
    "* `Tile X`\n",
    "  - `TXP0`: Pas de changement sur le cout. (`0`)\n",
    "  - `TXP1`: Diminuer le cout par 1. (`-1`)\n",
    "  - `TXP2`: Incrementer le cout par 1. (`+1`)\n",
    "  - `TXP3`: Comme chaque tile a une seul position correct, cette situation est impossible.\n",
    "\n",
    "C'est les memes situations et effets pour la `Tile 0`."
   ]
  },
  {
   "cell_type": "markdown",
   "metadata": {},
   "source": [
    "Donc, aprés chaque movement, on peut calculer la nouvelle cout en fonction de cout précédent. Dans notre example, on a:\n",
    "- `T0P0` est correct pour `Tile 0` (`0`)\n",
    "- `TXP1` est correct pour `Tile X` (`-1`)\n",
    "\n",
    "La difference total `d=-1`, donc `nouveau_cout = cout_prec + d = 9 - 1 = 8`"
   ]
  },
  {
   "cell_type": "markdown",
   "metadata": {},
   "source": [
    "### Implementation"
   ]
  },
  {
   "cell_type": "markdown",
   "metadata": {},
   "source": [
    "On prend la method `A*` comme example. A l'initialisation, on doit calculer le cout de taquin initiale. Le cout donnée par la fonction heuristique est sauvegarder dans l'instance de `Taquin` qu'il est associé."
   ]
  },
  {
   "cell_type": "markdown",
   "metadata": {},
   "source": [
    "```py\n",
    "class AStar(BaseAlgorithm):\n",
    "    ...\n",
    "    \n",
    "    def __init__(self, taquin: Taquin, quiz_cost: bool = False):\n",
    "        self.goal = taquin._goal\n",
    "        self.quiz_cost = quiz_cost\n",
    "        \n",
    "        taquin.f = 0\n",
    "        taquin.g = 0\n",
    "        taquin.h = self.get_cost(taquin)\n",
    "        \n",
    "        self.taquin: Taquin = taquin\n",
    "        \n",
    "        ...\n",
    "    \n",
    "    ...\n",
    "```"
   ]
  },
  {
   "cell_type": "markdown",
   "metadata": {},
   "source": [
    "Le parametre `quiz_cost` est utilisé pour specifier est ce qu'on doit recalculer le cout à l'aide de fonction heuristique ou à l'aide de notre algorithm."
   ]
  },
  {
   "cell_type": "markdown",
   "metadata": {},
   "source": [
    "```py\n",
    "    def solve(self, timeout: int = 10):\n",
    "            ...\n",
    "            children: list[Taquin] = []\n",
    "            for direction in Taquin.validDirections:\n",
    "                child = current.move(direction)\n",
    "                if child is not None:\n",
    "                    self.update_cost(current, child)\n",
    "                    children.append(child)\n",
    "            ...\n",
    "```"
   ]
  },
  {
   "cell_type": "markdown",
   "metadata": {},
   "source": [
    "Lors de generation des mouvements possibles, on fait appelle à `update_cost` qui est responsable de calculer et metre a jour le cout de nouvelle instance `child`."
   ]
  },
  {
   "cell_type": "markdown",
   "metadata": {},
   "source": [
    "```py\n",
    "    ...\n",
    "    def update_cost(self, prev: Taquin, next: Taquin) -> None:\n",
    "        # Tile 0 will always be moved.\n",
    "        board_size = next.size\n",
    "        prev_T0_x, prev_T0_y = prev.get_tile(0)\n",
    "        next_T0_x, next_T0_y = next.get_tile(0) # This is the index of the tile we swapping with\n",
    "        tile_value = prev._state[next_T0_x][next_T0_y]\n",
    "        correct_x, correct_y = tile_value//board_size, tile_value % board_size\n",
    "        \n",
    "        diff = 0\n",
    "        if prev_T0_x == prev_T0_y == 0:\n",
    "            # Was correct, now it's wrong\n",
    "            diff += 1\n",
    "        \n",
    "        if next_T0_x == next_T0_y == 0:\n",
    "            # Was wrong, now it's correct\n",
    "            diff -= 1\n",
    "        \n",
    "        if correct_x == prev_T0_x and correct_y == prev_T0_y:\n",
    "            # Now it's correct, 100% it was wrong\n",
    "            diff -= 1\n",
    "        else:\n",
    "            # Now, it's wrong\n",
    "            if correct_x == next_T0_x and correct_y == next_T0_y:\n",
    "                # It was correct! We made it worst\n",
    "                diff += 1\n",
    "            # If it was wrong, nothing changes\n",
    "        \n",
    "        next.h = prev.h + diff\n",
    "\n",
    "```"
   ]
  },
  {
   "cell_type": "markdown",
   "metadata": {},
   "source": [
    "Basé sur les conditions qu'on a déduit, on a implementer cette method pour calculer la difference entre le cout precedant et le cout de nouvelle etat. Puis, on mettre a jour l'attribut `h` de la nouvelle instance `next`."
   ]
  }
 ],
 "metadata": {
  "kernelspec": {
   "display_name": "Python 3 (ipykernel)",
   "language": "python",
   "name": "python3"
  },
  "language_info": {
   "codemirror_mode": {
    "name": "ipython",
    "version": 3
   },
   "file_extension": ".py",
   "mimetype": "text/x-python",
   "name": "python",
   "nbconvert_exporter": "python",
   "pygments_lexer": "ipython3",
   "version": "3.12.0"
  }
 },
 "nbformat": 4,
 "nbformat_minor": 5
}
